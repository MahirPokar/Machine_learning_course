{
  "cells": [
    {
      "cell_type": "markdown",
      "metadata": {
        "id": "view-in-github",
        "colab_type": "text"
      },
      "source": [
        "<a href=\"https://colab.research.google.com/github/MahirPokar/Machine_learning_course/blob/main/Labs/Lab%202%20-%20Probability.ipynb\" target=\"_parent\"><img src=\"https://colab.research.google.com/assets/colab-badge.svg\" alt=\"Open In Colab\"/></a>"
      ]
    },
    {
      "cell_type": "markdown",
      "metadata": {
        "id": "RUf7s9uEMwpa"
      },
      "source": [
        "# Computing probabilities from a dataset\n",
        "\n",
        "In this Notebook, we will use the **movie body count** dataset to compute basic probability quantities. This will allow you to see how those concepts we review in the Lecture can actually be translated to Python code so that you can automate computation of basic probabilities. This will later on be useful to build basic probabilistic prediction models."
      ]
    },
    {
      "cell_type": "markdown",
      "metadata": {
        "id": "O6sEgSp5Mwpc"
      },
      "source": [
        "## Movie Body Count Example ... again\n",
        "\n",
        "As we saw before, there is a crisis in the movie industry, deaths are occuring on a massive scale. In every feature film the body count is tolling up. But what is the cause of all these deaths? Let's try and investigate.\n",
        "\n",
        "For our first example of data science, we take inspiration from work by [researchers at NJIT](https://www.theswarmlab.com/blog/rvspython/r/2014/02/02/r-vs-python-round-2-2/). They researchers were comparing the qualities of Python with R. They put together a data base of results from the  the \"Internet Movie Database\" and the [Movie Body Count](http://www.moviebodycounts.com/) website which will allow us to do some preliminary investigation."
      ]
    },
    {
      "cell_type": "markdown",
      "metadata": {
        "id": "XHB2pQwhMwpe"
      },
      "source": [
        "We will make use of data that has already been 'scraped' from the [Movie Body Count](http://www.moviebodycounts.com/) website. Code and the data is available at [a github repository](https://github.com/sjmgarnier/R-vs-Python/tree/master/Deadliest%20movies%20scrape/code). Git is a version control system and github is a website that hosts code that can be accessed through git. By sharing the code publicly through github, the authors are licensing the code publicly and allowing you to access and edit it. As well as accessing the code via github you can also [download the zip file](https://github.com/sjmgarnier/R-vs-Python/archive/master.zip). But let's do that in python"
      ]
    },
    {
      "cell_type": "code",
      "execution_count": null,
      "metadata": {
        "id": "VfTLnjB8Mwpf"
      },
      "outputs": [],
      "source": [
        "import urllib.request\n",
        "urllib.request.urlretrieve('https://github.com/sjmgarnier/R-vs-Python/archive/master.zip', './master.zip')"
      ]
    },
    {
      "cell_type": "markdown",
      "metadata": {
        "id": "9yqLZL1sMwpf"
      },
      "source": [
        "Once the data is downloaded we can unzip it into the same directory where we are running the lab class."
      ]
    },
    {
      "cell_type": "code",
      "execution_count": null,
      "metadata": {
        "id": "oHChm56LMwpg"
      },
      "outputs": [],
      "source": [
        "import zipfile\n",
        "zip = zipfile.ZipFile('./master.zip', 'r')\n",
        "for name in zip.namelist():\n",
        "    zip.extract(name, '.')"
      ]
    },
    {
      "cell_type": "code",
      "execution_count": null,
      "metadata": {
        "id": "XnVHZz-nMwpg"
      },
      "outputs": [],
      "source": [
        "import pandas as pd # import the pandas library into a namespace called pd\n",
        "film_deaths = pd.read_csv('./R-vs-Python-master/Deadliest movies scrape/code/film-death-counts-Python.csv')\n"
      ]
    },
    {
      "cell_type": "markdown",
      "metadata": {
        "id": "CB7UvJHiMwph"
      },
      "source": [
        "Once it is loaded in the data can be summarized using the `describe` method in pandas.\n"
      ]
    },
    {
      "cell_type": "code",
      "execution_count": null,
      "metadata": {
        "id": "KFoloLRvMwpi"
      },
      "outputs": [],
      "source": [
        "film_deaths.describe()"
      ]
    },
    {
      "cell_type": "markdown",
      "metadata": {
        "id": "GxadTkGnMwpj"
      },
      "source": [
        "Remember that in jupyter and in a jupyter notebook it is possible to see a list of all possible functions and attributes by typing the name of the object followed by .<Tab> for example in the above case if we type film_deaths.<Tab> it show the columns available (these are attributes in pandas dataframes) such as Body_Count, and also functions, such as .describe()."
      ]
    },
    {
      "cell_type": "code",
      "execution_count": null,
      "metadata": {
        "id": "1qJ_FRJqMwpj"
      },
      "outputs": [],
      "source": [
        "print(film_deaths['Year'])"
      ]
    },
    {
      "cell_type": "markdown",
      "metadata": {
        "id": "RzRgMlawMwpk"
      },
      "source": [
        "This shows the number of deaths per film across the years. We can plot the data as follows."
      ]
    },
    {
      "cell_type": "code",
      "execution_count": null,
      "metadata": {
        "id": "iIccxEWqMwpk"
      },
      "outputs": [],
      "source": [
        "# this ensures the plot appears in the web browser\n",
        "%matplotlib inline\n",
        "import pylab as plt # this imports the plotting library in python\n",
        "\n",
        "plt.plot(film_deaths['Year'], film_deaths['Body_Count'], 'rx')"
      ]
    },
    {
      "cell_type": "markdown",
      "metadata": {
        "id": "-1uPG463Mwpl"
      },
      "source": [
        "You may be curious what the arguments we give to plt.plot are for, now is the perfect time to look at the documentation"
      ]
    },
    {
      "cell_type": "code",
      "execution_count": null,
      "metadata": {
        "id": "-_CBZHDyMwpl"
      },
      "outputs": [],
      "source": [
        "plt.plot?"
      ]
    },
    {
      "cell_type": "markdown",
      "metadata": {
        "id": "K68dgIkfMwpl"
      },
      "source": [
        "We immediately note that some films have a lot of deaths, which prevent us seeing the detail of the main body of films. First lets identify the films with the most deaths."
      ]
    },
    {
      "cell_type": "code",
      "execution_count": null,
      "metadata": {
        "id": "R7pwoKyyMwpl"
      },
      "outputs": [],
      "source": [
        "film_deaths[film_deaths['Body_Count']>200]"
      ]
    },
    {
      "cell_type": "markdown",
      "metadata": {
        "id": "pQa5JYR7Mwpm"
      },
      "source": [
        "Here we are using the command `film_deaths['Body_Count']>200` to index the films in the pandas data frame which have over 200 deaths. To sort them in order we can also use the `sort` command. The result of this command on its own is a data series of `True` and `False` values. However, when it is passed to the `film_deaths` data frame it returns a new data frame which contains only those values for which the data series is `True`. We can also sort the result. To sort the result by the values in the `Body_Count` column in *descending* order we use the following command."
      ]
    },
    {
      "cell_type": "code",
      "execution_count": null,
      "metadata": {
        "id": "tfbf_iDWMwpm"
      },
      "outputs": [],
      "source": [
        "film_deaths[film_deaths['Body_Count']>200].sort_values('Body_Count', ascending=False)"
      ]
    },
    {
      "cell_type": "markdown",
      "metadata": {
        "id": "OngGKkNmMwpn"
      },
      "source": [
        "We now see that the 'Lord of the Rings' is a large outlier with a very large number of kills. We can try and determine how much of an outlier by histograming the data."
      ]
    },
    {
      "cell_type": "markdown",
      "metadata": {
        "id": "SDPt2X3wMwpn"
      },
      "source": [
        "### Plotting the Data"
      ]
    },
    {
      "cell_type": "code",
      "execution_count": null,
      "metadata": {
        "id": "BkxQJWJ_Mwpn"
      },
      "outputs": [],
      "source": [
        "film_deaths['Body_Count'].hist(bins=20) # histogram the data with 20 bins.\n",
        "plt.title('Histogram of Film Kill Count')"
      ]
    },
    {
      "cell_type": "markdown",
      "metadata": {
        "id": "0FU7wASiMwpo"
      },
      "source": [
        "We could try and remove these outliers, but another approach would be to plot the logarithm of the counts against the year."
      ]
    },
    {
      "cell_type": "code",
      "execution_count": null,
      "metadata": {
        "id": "xlkm9ZrSMwpo"
      },
      "outputs": [],
      "source": [
        "plt.plot(film_deaths['Year'], film_deaths['Body_Count'], 'rx')\n",
        "ax = plt.gca() # obtain a handle to the current axis\n",
        "ax.set_yscale('log') # use a logarithmic death scale\n",
        "# give the plot some titles and labels\n",
        "plt.title('Film Deaths against Year')\n",
        "plt.ylabel('deaths')\n",
        "plt.xlabel('year')"
      ]
    },
    {
      "cell_type": "markdown",
      "metadata": {
        "id": "tm4wH7HcMwpo"
      },
      "source": [
        "## Probabilities\n",
        "\n",
        "We are now going to do some simple review of probabilities and use this review to explore some aspects of our data.\n",
        "\n",
        "A probability distribution expresses uncertainty about the outcome of an event. We often encode this uncertainty in a variable. So if we are considering the outcome of an event, $Y$, to be a coin toss, then we might consider $Y=1$ to be heads and $Y=0$ to be tails. We represent the probability of a given outcome with the notation:\n",
        "$$\n",
        "P(Y=1) = 0.5\n",
        "$$\n",
        "The first rule of probability is that the probability must normalize. The sum of the probability of all events must equal 1. So if the probability of heads ($Y=1$) is 0.5, then the probability of tails (the only other possible outcome) is given by\n",
        "$$\n",
        "P(Y=0) = 1-P(Y=1) = 0.5\n",
        "$$\n",
        "\n",
        "Probabilities are often defined as the limit of the ratio between the number of positive outcomes (e.g. *heads*) given the number of trials. If the number of positive outcomes for event $y$ is denoted by $n_y$ and the number of trials is denoted by $N$ then this gives the ratio\n",
        "$$\n",
        "P(Y=y) = \\lim_{N\\rightarrow \\infty}\\frac{n_y}{N}.\n",
        "$$\n",
        "In practice we never get to observe an event infinite times, so rather than considering this we often use the following estimate\n",
        "$$\n",
        "P(Y=y) \\approx \\frac{n_y}{N}.\n",
        "$$\n",
        "Let's use this rule to compute the approximate probability that a film from the movie body count website has over 40 deaths."
      ]
    },
    {
      "cell_type": "code",
      "execution_count": null,
      "metadata": {
        "id": "nHfcQG_AMwpp"
      },
      "outputs": [],
      "source": [
        "deaths = (film_deaths.Body_Count>40).sum()  # number of positive outcomes (in sum True counts as 1, False counts as 0)\n",
        "total_films = film_deaths.Body_Count.count()\n",
        "prob_death = deaths/total_films\n",
        "print(\"Probability of deaths being greater than 40 is:\", prob_death)"
      ]
    },
    {
      "cell_type": "markdown",
      "metadata": {
        "id": "a7ylymEJMwpp"
      },
      "source": [
        "### Question 1\n",
        "\n",
        "We now have an estimate of the probability a film has greater than 40 deaths. The estimate seems quite high. What could be wrong with the estimate? Do you think any film you go to in the cinema has this probability of having greater than 40 deaths?"
      ]
    },
    {
      "cell_type": "markdown",
      "metadata": {
        "id": "x_ApaLkOMwpp"
      },
      "source": [
        "# Conditioning\n",
        "\n",
        "When predicting whether a coin turns up head or tails, we might think that this event is *independent* of the year or time of day. If we include an observation such as time, then in a probability this is known as *conditioning*. We use this notation, $P(Y=y|T=t)$, to condition the outcome on a second variable (in this case time). Or, often, for a shorthand we use $P(y|t)$ to represent this distribution (the $Y=$ and $T=$ being implicit). Because we don't believe a coin toss depends on time then we might write that\n",
        "$$\n",
        "P(y|t) = P(y).\n",
        "$$\n",
        "However, we might believe that the number of deaths is dependent on the year. For this we can try estimating $P(Y>40 | T=2000)$ and compare the result, for example to $P(Y>40|2002)$ using our empirical estimate of the probability."
      ]
    },
    {
      "cell_type": "code",
      "execution_count": null,
      "metadata": {
        "id": "H7fVc-ziMwpq"
      },
      "outputs": [],
      "source": [
        "for year in [2000, 2002]:\n",
        "    deaths = (film_deaths.Body_Count[film_deaths.Year==year]>40).sum()\n",
        "    total_films = (film_deaths.Year==year).sum()\n",
        "\n",
        "    prob_death = deaths/total_films\n",
        "    print(\"Probability of deaths being greather than 40 in year\", year, \"is:\", prob_death)"
      ]
    },
    {
      "cell_type": "markdown",
      "metadata": {
        "id": "cgrr2L7tMwpq"
      },
      "source": [
        "### Question 2\n",
        "\n",
        "Compute the probability for the number of deaths being over 40 for each year we have in our `film_deaths` data frame. Store the result in a `numpy` array and plot the probabilities against the years using the `plot` command from `matplotlib`. Do you think the estimate we have created of $P(y|t)$ is a good estimate? Write your code and your written answers in the box below.  "
      ]
    },
    {
      "cell_type": "code",
      "execution_count": null,
      "metadata": {
        "id": "8L79_O5RMwpr"
      },
      "outputs": [],
      "source": [
        "# Write your code here"
      ]
    },
    {
      "cell_type": "markdown",
      "metadata": {
        "id": "3NzzC_ASMwpr"
      },
      "source": [
        "*Provide here the part of question 2 that requires text rather than code*"
      ]
    },
    {
      "cell_type": "markdown",
      "metadata": {
        "id": "xX4DqTqjMwpr"
      },
      "source": [
        "#### Notes for Question 2\n",
        "\n",
        "Make sure the plot is included in *this* notebook file (the `IPython` magic command `%matplotlib inline` we ran above will do that for you, it only needs to be run once per file)."
      ]
    },
    {
      "cell_type": "markdown",
      "metadata": {
        "id": "EQI_NY3iMwps"
      },
      "source": [
        "### Rules of Probability\n",
        "\n",
        "We've now introduced conditioning and independence to the notion of probability and computed some conditional probabilities on a practical example The scatter plot of deaths vs year that we created above can be seen as a *joint* probability distribution. We represent a joint probability using the notation $P(Y=y, T=t)$ or $P(y, t)$ for short. Computing a joint probability is equivalent to answering the simultaneous questions, what's the probability that the number of deaths was over 40 and the year was 2002? Or any other question that may occur to us. Again we can easily use pandas to ask such questions.\n"
      ]
    },
    {
      "cell_type": "code",
      "execution_count": null,
      "metadata": {
        "id": "_8N3m2zBMwpt"
      },
      "outputs": [],
      "source": [
        "year = 2000\n",
        "deaths = (film_deaths.Body_Count[film_deaths.Year==year]>40).sum()\n",
        "total_films = film_deaths.Body_Count.count() # this is total number of films\n",
        "prob_death = float(deaths)/float(total_films)\n",
        "print(\"Probability of deaths being greather than 40 and year being\", year, \"is:\", prob_death)"
      ]
    },
    {
      "cell_type": "markdown",
      "metadata": {
        "id": "P_3BCxgSMwpt"
      },
      "source": [
        "### The Product Rule\n",
        "\n",
        "This number is the joint probability, $P(Y, T)$ which is much *smaller* than the conditional probability. The number can never be bigger than the conditional probability because it is computed using the *product rule*.\n",
        "$$\n",
        "p(Y=y, T=t) = p(Y=y|T=t)p(T=t)\n",
        "$$\n",
        "and $$p(T=t)$$ is a probability distribution, which is equal or less than 1, ensuring the joint distribution is typically smaller than the conditional distribution.\n",
        "\n",
        "The product rule is a *fundamental* rule of probability, and you must remember it! It gives the relationship between the two questions: 1) What's the probability that a film was made in 2002 and has over 40 deaths? and 2) What's the probability that a film has over 40 deaths given that it was made in 2002?\n",
        "\n",
        "In our shorter notation we can write the product rule as\n",
        "$$\n",
        "p(y, t) = p(y|t)p(t)\n",
        "$$\n",
        "We can see the relation working in practice for our data above by computing the different values for $t=2000$."
      ]
    },
    {
      "cell_type": "code",
      "execution_count": null,
      "metadata": {
        "id": "Trlwi7i4Mwpt"
      },
      "outputs": [],
      "source": [
        "p_t = (film_deaths.Year==2002).sum()/film_deaths.Body_Count.count()\n",
        "p_y_given_t = (film_deaths.Body_Count[film_deaths.Year==2002]>40).sum()/(film_deaths.Year==2002).sum()\n",
        "p_y_and_t = (film_deaths.Body_Count[film_deaths.Year==2002]>40).sum()/film_deaths.Body_Count.count()\n",
        "\n",
        "print(\"P(t) is\", p_t)\n",
        "print(\"P(y|t) is\", p_y_given_t)\n",
        "print(\"P(y,t) is\", p_y_and_t)"
      ]
    },
    {
      "cell_type": "markdown",
      "metadata": {
        "id": "wzIenmH4Mwpu"
      },
      "source": [
        "### The Sum Rule\n",
        "\n",
        "The other *fundamental rule* of probability is the *sum rule* this tells us how to get a *marginal* distribution from the joint distribution. Simply put it says that we need to sum across the value we'd like to remove.\n",
        "$$\n",
        "P(Y=y) = \\sum_{t} P(Y=y, T=t)\n",
        "$$\n",
        "Or in our shortened notation\n",
        "$$\n",
        "P(y) = \\sum_{t} P(y, t)\n",
        "$$"
      ]
    },
    {
      "cell_type": "markdown",
      "metadata": {
        "id": "MsXH2eMeMwpu"
      },
      "source": [
        "### Question 3\n",
        "\n",
        "Write code that computes $P(y)$ by adding $P(y, t)$ for all values of $t$."
      ]
    },
    {
      "cell_type": "code",
      "execution_count": null,
      "metadata": {
        "id": "los7c0J4Mwpu"
      },
      "outputs": [],
      "source": [
        "# Write your code here"
      ]
    },
    {
      "cell_type": "markdown",
      "metadata": {
        "id": "dyGvw_0jMwpv"
      },
      "source": [
        "## Bayes' Rule\n",
        "\n",
        "Bayes rule is a very simple rule, it's hardly worth the name of a rule at all. It follows directly from the product rule of probability. Because $P(y, t) = P(y|t)P(t)$ and by symmetry $P(y,t)=P(t,y)=P(t|y)P(y)$ then by equating these two equations and dividing through by $P(y)$ we have\n",
        "$$\n",
        "P(t|y) = \\frac{P(y|t)P(t)}{P(y)},\n",
        "$$\n",
        "which is known as Bayes' rule (or Bayes's rule, it depends how you choose to pronounce it). It's not difficult to derive, and its importance is more to do with the semantic operation that it enables. Each of these probability distributions represents the answer to a question we have about the world. Bayes rule (via the product rule) tells us how to *invert* the probability."
      ]
    },
    {
      "cell_type": "markdown",
      "metadata": {
        "id": "DhJHnnivMwpw"
      },
      "source": [
        "## Probabilities for Extracting Information from Data\n",
        "\n",
        "What use is all this probability in data science? Let's think about how we might use the probabilities to do some decision making. Let's load up a little more information about the movies."
      ]
    },
    {
      "cell_type": "code",
      "execution_count": null,
      "metadata": {
        "id": "iNUR2itPMwpw"
      },
      "outputs": [],
      "source": [
        "movies = pd.read_csv('./R-vs-Python-master/Deadliest movies scrape/code/film-death-counts-Python.csv')\n",
        "movies.columns"
      ]
    },
    {
      "cell_type": "markdown",
      "metadata": {
        "id": "GxzOGqIRMwpw"
      },
      "source": [
        "### Question 4\n",
        "\n",
        "Now we see we have several additional features including the quality rating (`IMDB_Rating`). Let's assume we want to predict the rating given the other information in the data base. How would we go about doing it?\n",
        "\n",
        "Using what you've learnt about joint, conditional and marginal probabilities, as well as the sum and product rule, how would you formulate the question you want to answer in terms of probabilities? Should you be using a joint or a conditional distribution? If it's conditional, what should the distribution be over, and what should it be conditioned on?"
      ]
    },
    {
      "cell_type": "markdown",
      "metadata": {
        "id": "iF7Do50QMwpw"
      },
      "source": [
        "*Provide your answer here*"
      ]
    }
  ],
  "metadata": {
    "anaconda-cloud": {},
    "kernelspec": {
      "display_name": "Python 3 (ipykernel)",
      "language": "python",
      "name": "python3"
    },
    "language_info": {
      "codemirror_mode": {
        "name": "ipython",
        "version": 3
      },
      "file_extension": ".py",
      "mimetype": "text/x-python",
      "name": "python",
      "nbconvert_exporter": "python",
      "pygments_lexer": "ipython3",
      "version": "3.11.4"
    },
    "colab": {
      "provenance": [],
      "include_colab_link": true
    }
  },
  "nbformat": 4,
  "nbformat_minor": 0
}